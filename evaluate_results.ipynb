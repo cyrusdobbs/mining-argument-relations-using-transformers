{
 "cells": [
  {
   "cell_type": "code",
   "execution_count": null,
   "metadata": {
    "pycharm": {
     "name": "#%%\n"
    }
   },
   "outputs": [],
   "source": [
    "from preprocessing.pre_process_utils import CDCPArgumentationDoc\n",
    "from utils.data_processors import ArgMinRelClassProcessorCDCPRBERTJointLearning, ArgMinRelClassProcessorCDCPWithDistance\n",
    "from transformers import BertTokenizer\n",
    "from utils.metrics import compute_metrics\n",
    "from sklearn.metrics import confusion_matrix, ConfusionMatrixDisplay\n",
    "\n",
    "import matplotlib.pyplot as plt\n",
    "import os\n",
    "import numpy as np\n",
    "import pandas as pd\n",
    "\n",
    "data_dir = os.path.join(os.getcwd(), \"data/cdcp/original\")\n",
    "\n",
    "# doc_ids = [file.split('.')[0] for file in os.listdir(data_dir) if file.split(\".\")[-1] == \"txt\"]\n",
    "# docs = [CDCPArgumentationDoc(data_dir + '/' + doc_id) for doc_id in doc_ids]"
   ]
  },
  {
   "cell_type": "code",
   "execution_count": null,
   "metadata": {
    "pycharm": {
     "name": "#%%\n"
    }
   },
   "outputs": [],
   "source": [
    "rbert_output_dir = os.path.join(os.getcwd(), \"output/bert-rbert-jl-2+None+cdcp_relclass_rbert_jl+512+LR2e-5+WD0+FZ0+EP20+BS8\")\n",
    "\n",
    "tokenizer = BertTokenizer.from_pretrained(\n",
    "    rbert_output_dir,\n",
    "    do_lower_case=True,\n",
    "    cache_dir=None,\n",
    ")\n",
    "tokenizer.add_special_tokens({\"additional_special_tokens\": ['<src>', '</src>', '<trg>', '</trg>']})\n",
    "\n",
    "dp = ArgMinRelClassProcessorCDCPRBERTJointLearning()\n",
    "docs = dp.read_cdcp_docs(os.path.join(data_dir, 'test'))\n",
    "\n",
    "longest_example = 0\n",
    "counts = {'reason': 0,\n",
    "          'evidence': 0,\n",
    "          'noRel': 0,\n",
    "          'policy': 0, 'fact': 0, 'testimony': 0, 'value': 0, 'reference': 0}\n",
    "\n",
    "text_info = []\n",
    "rows = []\n",
    "skipped_idxs = []\n",
    "\n",
    "count = 0\n",
    "for doc_id, doc in enumerate(docs):\n",
    "    for c_src_idx, c_src in enumerate(doc.prop_offsets):\n",
    "        for c_trg_idx, c_trg in enumerate(doc.prop_offsets):\n",
    "            if c_src_idx == c_trg_idx:\n",
    "                continue\n",
    "            count += 1\n",
    "            if (c_src_idx, c_trg_idx) in doc.links_lists['locate']:\n",
    "                rel_type = doc.links_lists['link'][doc.links_lists['locate'].index((c_src_idx, c_trg_idx))]\n",
    "            else:\n",
    "                rel_type = 'noRel'\n",
    "            c_text_order = [['src', c_src], ['trg', c_trg]] if c_src_idx < c_trg_idx else [['trg', c_trg], ['src', c_src]]\n",
    "            text_a = dp.create_text_with_tags(doc.raw_text, c_text_order)\n",
    "            tokens = tokenizer.tokenize(text_a)\n",
    "            if len(tokens) > 512:\n",
    "                skipped_idxs.append(count)\n",
    "                continue\n",
    "            for prop_idx, prop in enumerate(doc.prop_offsets):\n",
    "                counts[doc.prop_labels[prop_idx]] += 1\n",
    "            counts[rel_type] += 1\n",
    "\n",
    "            source_first = c_src_idx < c_trg_idx\n",
    "            relation_label = dp.get_labels().index('__label__' + rel_type)\n",
    "            source_label = dp.get_component_labels().index(doc.prop_labels[c_src_idx])\n",
    "            target_label = dp.get_component_labels().index(doc.prop_labels[c_trg_idx])\n",
    "            source_len = tokens.index(dp.TAGS['src'][1].strip()) - tokens.index(dp.TAGS['src'][0].strip())\n",
    "            target_len = tokens.index(dp.TAGS['trg'][1].strip()) - tokens.index(dp.TAGS['trg'][0].strip())\n",
    "            distance = abs(c_trg_idx - c_src_idx)\n",
    "            doc_len = len(tokens)\n",
    "            bridge_len = tokens.index(dp.TAGS['trg'][0].strip()) - tokens.index(dp.TAGS['src'][1].strip()) - 1 \\\n",
    "                if source_first else tokens.index(dp.TAGS['src'][0].strip()) - tokens.index(dp.TAGS['trg'][1].strip()) - 1\n",
    "            non_component_token_len = doc_len - source_len - target_len\n",
    "            outer_len = non_component_token_len - bridge_len\n",
    "            non_component_percentage = non_component_token_len / doc_len * 100\n",
    "\n",
    "            row_dict = {'source_first': source_first,\n",
    "                        'relation_label': relation_label,\n",
    "                        'source_label': source_label,\n",
    "                        'target_label': target_label,\n",
    "                        'source_len': source_len,\n",
    "                        'target_len': target_len,\n",
    "                        'Component Distance': distance,\n",
    "                        'Document Length': doc_len,\n",
    "                        'Bridge Length': bridge_len,\n",
    "                        'Non-component Length': non_component_token_len,\n",
    "                        'Non-component %': non_component_percentage,\n",
    "                        'Outer Length': outer_len,\n",
    "                        'document_id': doc_id}\n",
    "\n",
    "            text_entry = {'text': text_a,\n",
    "                          'tokens': tokens,\n",
    "                          'document_id': doc_id,\n",
    "                          'relation_label': relation_label}\n",
    "            rows.append(row_dict)\n",
    "            text_info.append(text_entry)\n",
    "\n",
    "examples_df = pd.DataFrame(rows)"
   ]
  },
  {
   "cell_type": "code",
   "execution_count": null,
   "metadata": {
    "pycharm": {
     "name": "#%%\n"
    }
   },
   "outputs": [],
   "source": [
    "rbert_relation_preds = []\n",
    "rbert_source_preds = []\n",
    "rbert_target_preds = []\n",
    "\n",
    "output_eval_file = os.path.join(rbert_output_dir, \"eval_relation_preds.txt\")\n",
    "with open(output_eval_file, \"r\") as reader:\n",
    "    for p in reader:\n",
    "        for p_label in list(p):\n",
    "            rbert_relation_preds.append(int(p_label))\n",
    "\n",
    "output_eval_file = os.path.join(rbert_output_dir, \"eval_source_preds.txt\")\n",
    "with open(output_eval_file, \"r\") as reader:\n",
    "    for p in reader:\n",
    "        for p_label in list(p):\n",
    "            rbert_source_preds.append(int(p_label))\n",
    "\n",
    "output_eval_file = os.path.join(rbert_output_dir, \"eval_target_preds.txt\")\n",
    "with open(output_eval_file, \"r\") as reader:\n",
    "    for p in reader:\n",
    "        for p_label in list(p):\n",
    "            rbert_target_preds.append(int(p_label))\n",
    "\n",
    "df = examples_df.copy()\n",
    "\n",
    "df['rbert_relation_pred'] = np.array(rbert_relation_preds)\n",
    "df['rbert_source_pred'] = np.array(rbert_source_preds)\n",
    "df['rbert_target_pred'] = np.array(rbert_target_preds)"
   ]
  },
  {
   "cell_type": "code",
   "execution_count": null,
   "metadata": {
    "pycharm": {
     "name": "#%%\n"
    }
   },
   "outputs": [],
   "source": [
    "dist_output_dir = os.path.join(os.getcwd(), \"output/bert-distance+2FC-RelU+cdcp_relclass_distance+166+LR1e-5+WD0+FZ0+EP15+BS20\")\n",
    "\n",
    "dist_relation_preds = []\n",
    "\n",
    "output_eval_file = os.path.join(dist_output_dir, \"eval_relation_preds.txt\")\n",
    "with open(output_eval_file, \"r\") as reader:\n",
    "    for p in reader:\n",
    "        for idx, p_label in enumerate(list(p)):\n",
    "            if idx in skipped_idxs:\n",
    "                continue\n",
    "            dist_relation_preds.append(int(p_label))\n",
    "\n",
    "df['dist_relation_pred'] = np.array(dist_relation_preds)"
   ]
  },
  {
   "cell_type": "code",
   "execution_count": null,
   "metadata": {
    "pycharm": {
     "name": "#%%\n"
    }
   },
   "outputs": [],
   "source": [
    "rbert_metrics = compute_metrics('cdcp_relclass_resnet_jl', df['rbert_relation_pred'], df['relation_label'])\n",
    "dist_metrics = compute_metrics('cdcp_relclass_resnet_jl', df['dist_relation_pred'], df['relation_label'])"
   ]
  },
  {
   "cell_type": "code",
   "execution_count": null,
   "metadata": {
    "pycharm": {
     "name": "#%%\n"
    }
   },
   "outputs": [],
   "source": [
    "plt.hist(df['Document Length'], bins=15)"
   ]
  },
  {
   "cell_type": "code",
   "execution_count": null,
   "metadata": {
    "pycharm": {
     "name": "#%%\n"
    }
   },
   "outputs": [],
   "source": [
    "rsn = df.loc[df['relation_label'] == 1]\n",
    "\n",
    "rbert_rsn_tp = df[(df['relation_label'] == 1) & (df['rbert_relation_pred'] == 1)]\n",
    "rbert_rsn_tn = df[(df['relation_label'] != 1) & (df['rbert_relation_pred'] != 1)]\n",
    "rbert_rsn_fp = df[(df['relation_label'] == 1) & (df['rbert_relation_pred'] != 1)]\n",
    "rbert_rsn_fn = df[(df['relation_label'] != 1) & (df['rbert_relation_pred'] == 1)]\n",
    "rbert_rsn_fp_fn = df[((df['relation_label'] == 1) & (df['rbert_relation_pred'] != 1)) | ((df['relation_label'] != 1) & (df['rbert_relation_pred'] == 1))]\n",
    "rbert_rsn_tp_tn = df[((df['relation_label'] == 1) & (df['rbert_relation_pred'] == 1)) | ((df['relation_label'] != 1) & (df['rbert_relation_pred'] != 1))]"
   ]
  },
  {
   "cell_type": "code",
   "execution_count": null,
   "metadata": {
    "pycharm": {
     "name": "#%%\n"
    }
   },
   "outputs": [],
   "source": [
    "cm = confusion_matrix(df['relation_label'], df['rbert_relation_pred'])\n",
    "\n",
    "disp = ConfusionMatrixDisplay(cm, ['None', 'Reason', 'Evidence'])\n",
    "\n",
    "disp.plot()\n",
    "\n",
    "disp.figure_.savefig('images/RBERT-cm')"
   ]
  },
  {
   "cell_type": "code",
   "execution_count": null,
   "metadata": {
    "pycharm": {
     "name": "#%%\n"
    }
   },
   "outputs": [],
   "source": [
    "cm2 = confusion_matrix(df['relation_label'], df['dist_relation_pred'])\n",
    "\n",
    "disp2 = ConfusionMatrixDisplay(cm2, ['None', 'Reason', 'Evidence'])\n",
    "\n",
    "disp2.plot()\n",
    "\n",
    "disp2.figure_.savefig('images/DIST-cm')"
   ]
  },
  {
   "cell_type": "code",
   "execution_count": null,
   "metadata": {
    "pycharm": {
     "name": "#%%\n"
    }
   },
   "outputs": [],
   "source": [
    "rbert_rsn_c = rsn[rsn['rbert_relation_pred'] == 1]\n",
    "rbert_rsn_f = rsn[rsn['rbert_relation_pred'] != 1]"
   ]
  },
  {
   "cell_type": "code",
   "execution_count": null,
   "metadata": {
    "pycharm": {
     "name": "#%%\n"
    }
   },
   "outputs": [],
   "source": [
    "df['relation_label'].value_counts()"
   ]
  },
  {
   "cell_type": "code",
   "execution_count": null,
   "metadata": {
    "pycharm": {
     "name": "#%%\n"
    }
   },
   "outputs": [],
   "source": [
    "def process_means(dframe, name):\n",
    "    all_comps = np.concatenate([dframe['source_len'].values, dframe['target_len'].values])\n",
    "    dframe_mean = pd.Series(dframe.mean()[:], name=name)\n",
    "    dframe_mean['count'] = len(dframe)\n",
    "    dframe_mean['component_len'] = all_comps.mean()\n",
    "    dframe_mean['component_len_std'] = all_comps.std()\n",
    "    to_drop = ['rbert_relation_pred', 'rbert_source_pred', 'rbert_target_pred', 'dist_relation_pred', 'source_label',\n",
    "               'target_label', 'relation_label', 'document_id']\n",
    "    dframe_mean = dframe_mean.drop(to_drop)\n",
    "    to_std = ['Bridge Length', 'Document Length', 'Non-component Length', 'Outer Length', 'Component Distance', 'Non-component %']\n",
    "    stds = dframe[to_std].std()\n",
    "    stds = stds.rename({to_std[i]: to_std[i] + \" Std\" for i in range(6)})\n",
    "    dframe_mean = dframe_mean.append(stds)\n",
    "\n",
    "    # vcs = dframe['source_label'].value_counts(sort=False).reindex(df.source_label.unique(), fill_value=0)\n",
    "    # vcs = vcs / dframe_mean['count']\n",
    "    # vcs = vcs.rename({i: dp.get_component_labels()[i] for i in range(5)})\n",
    "    # dframe_mean.append(vcs).rename(name)\n",
    "    order = ['source_first', 'source_len', 'target_len', 'component_len', 'component_len_std', 'Document Length', 'Document Length Std',\n",
    "             'Bridge Length', 'Bridge Length Std', 'Component Distance', 'Component Distance Std',\n",
    "             'Non-component Length', 'Non-component Length Std', 'Outer Length', 'Outer Length Std',\n",
    "             'Non-component %', 'Non-component % Std', 'count']\n",
    "    dframe_mean = dframe_mean.reindex(index = order)\n",
    "    return dframe_mean.rename(name)\n",
    "\n",
    "process_means(rsn, 'All Reason')"
   ]
  },
  {
   "cell_type": "code",
   "execution_count": null,
   "metadata": {
    "pycharm": {
     "name": "#%%\n"
    }
   },
   "outputs": [],
   "source": [
    "plt.hist(rsn['Bridge Length'], bins=25)\n",
    "\n",
    "# rsn_mean = pd.Series(rsn.mean()[:], name='All Reason')\n",
    "# rsn_mean['count'] = len(rsn)\n",
    "rsn_mean = process_means(rsn, 'All Reason')"
   ]
  },
  {
   "cell_type": "code",
   "execution_count": null,
   "metadata": {
    "pycharm": {
     "name": "#%%\n"
    }
   },
   "outputs": [],
   "source": [
    "plt.hist(rbert_rsn_c['Bridge Length'], bins=25)\n",
    "\n",
    "rbert_rsn_c_mean = process_means(rbert_rsn_c, 'Correct Reason RBERT')"
   ]
  },
  {
   "cell_type": "code",
   "execution_count": null,
   "metadata": {
    "pycharm": {
     "name": "#%%\n"
    }
   },
   "outputs": [],
   "source": [
    "plt.hist(rbert_rsn_f['Bridge Length'], bins=25)\n",
    "\n",
    "rbert_rsn_f_mean = process_means(rbert_rsn_f, 'False Reason RBERT')"
   ]
  },
  {
   "cell_type": "code",
   "execution_count": null,
   "metadata": {
    "pycharm": {
     "name": "#%%\n"
    }
   },
   "outputs": [],
   "source": [
    "dist_rsn_c = rsn[rsn['dist_relation_pred'] == 1]\n",
    "dist_rsn_f = rsn[rsn['dist_relation_pred'] != 1]"
   ]
  },
  {
   "cell_type": "code",
   "execution_count": null,
   "metadata": {
    "pycharm": {
     "name": "#%%\n"
    }
   },
   "outputs": [],
   "source": [
    "plt.hist(rsn['Bridge Length'], bins=25)\n",
    "\n",
    "dist_rsn_c_mean = process_means(dist_rsn_c, 'Correct Reason DIST')"
   ]
  },
  {
   "cell_type": "code",
   "execution_count": null,
   "metadata": {
    "pycharm": {
     "name": "#%%\n"
    }
   },
   "outputs": [],
   "source": [
    "plt.hist(dist_rsn_f['Bridge Length'], bins=25)\n",
    "\n",
    "dist_rsn_f_mean = process_means(dist_rsn_f, 'False Reason DIST')"
   ]
  },
  {
   "cell_type": "code",
   "execution_count": null,
   "metadata": {
    "pycharm": {
     "name": "#%%\n"
    }
   },
   "outputs": [],
   "source": [
    "means = pd.DataFrame(rsn_mean)\n",
    "means = means.join(rbert_rsn_c_mean)\n",
    "means = means.join(rbert_rsn_f_mean)\n",
    "means = means.join(dist_rsn_c_mean)\n",
    "means = means.join(dist_rsn_f_mean)\n",
    "means = means.round(2)\n",
    "\n",
    "means"
   ]
  },
  {
   "cell_type": "code",
   "execution_count": null,
   "metadata": {
    "pycharm": {
     "name": "#%%\n"
    }
   },
   "outputs": [],
   "source": [
    "df"
   ]
  },
  {
   "cell_type": "code",
   "execution_count": null,
   "metadata": {
    "pycharm": {
     "name": "#%%\n"
    }
   },
   "outputs": [],
   "source": [
    "stat = 'Non-component %'\n",
    "bins = 15\n",
    "data1 = df[(df['relation_label'] == 1)][stat]\n",
    "data2 = df[(df['relation_label'] == 1)]['Component Distance']\n",
    "bins = np.histogram(np.hstack((data1, data2)), bins=bins)[1]\n",
    "title = 'Non-component / doc length - Reason: Correct predictions against all examples'\n",
    "\n",
    "plt.figure(figsize=(8,6))\n",
    "plt.scatter(data1, data2)\n",
    "\n",
    "# plt.hist(df[df['relation_label'] == 1][stat], bins=bins, alpha=0.5, label=\"Reason\")\n",
    "plt.xlabel(\"Non-component Length / Doc length\", size=14)\n",
    "plt.ylabel(\"Distance\", size=14)\n",
    "# plt.title(title)\n",
    "plt.legend(loc='upper right')\n",
    "# plt.savefig('images/RBERT-NCOT')\n",
    "\n"
   ]
  },
  {
   "cell_type": "code",
   "execution_count": null,
   "metadata": {
    "pycharm": {
     "name": "#%%\n"
    }
   },
   "outputs": [],
   "source": [
    "stat = 'Bridge Length'\n",
    "bins = 15\n",
    "data1 = df[(df['relation_label'] == 1) & (df['rbert_relation_pred'] == 1)][stat]\n",
    "data2 = df[(df['relation_label'] == 1)][stat]\n",
    "bins = np.histogram(np.hstack((data1, data2)), bins=bins)[1]\n",
    "title = 'Bridge length - Reason: Correct predictions against all examples'\n",
    "\n",
    "\n",
    "plt.figure(figsize=(8,6))\n",
    "plt.hist(data1, bins=bins, alpha=0.5, color='red')\n",
    "plt.hist(data2, bins=bins, alpha=0.5, label=\"All reason examples\")\n",
    "plt.hist(data2[0:0], bins=bins, alpha=0.45, label=\"Correctly predicted reason examples\", color='purple')\n",
    "# plt.hist(df[df['relation_label'] == 1][stat], bins=bins, alpha=0.5, label=\"Reason\")\n",
    "plt.xlabel(\"Bridge Length\", size=14)\n",
    "plt.ylabel(\"Frequency\", size=14)\n",
    "# plt.title(title)\n",
    "plt.legend(loc='upper right')\n",
    "plt.savefig('images/RBERT-BL')"
   ]
  },
  {
   "cell_type": "code",
   "execution_count": null,
   "metadata": {
    "pycharm": {
     "name": "#%%\n"
    }
   },
   "outputs": [],
   "source": [
    "stat = 'Component Distance'\n",
    "bins = 15\n",
    "data1 = df[(df['relation_label'] == 1) & (df['rbert_relation_pred'] == 1)][stat]\n",
    "data2 = df[(df['relation_label'] == 1)][stat]\n",
    "bins = np.histogram(np.hstack((data1, data2)), bins=bins)[1]\n",
    "title = 'Component Distance - Reason: Correct predictions against all examples'\n",
    "\n",
    "\n",
    "plt.figure(figsize=(8,6))\n",
    "plt.hist(data1, bins=bins, alpha=0.5, color='red')\n",
    "plt.hist(data2, bins=bins, alpha=0.5, label=\"All reason examples\")\n",
    "plt.hist(data2[0:0], bins=bins, alpha=0.45, label=\"Correctly predicted reason examples\", color='purple')\n",
    "# plt.hist(df[df['relation_label'] == 1][stat], bins=bins, alpha=0.5, label=\"Reason\")\n",
    "plt.xlabel(\"Component Distance\", size=14)\n",
    "plt.ylabel(\"Frequency\", size=14)\n",
    "plt.xticks([x + 1  for x in range(12)])\n",
    "# plt.title(title)\n",
    "plt.legend(loc='upper right')\n",
    "plt.savefig('images/RBERT-CD')"
   ]
  },
  {
   "cell_type": "code",
   "execution_count": null,
   "metadata": {
    "pycharm": {
     "name": "#%%\n"
    }
   },
   "outputs": [],
   "source": [
    "stat = 'Non-component Length'\n",
    "bins = 15\n",
    "data1 = df[(df['relation_label'] == 1) & (df['rbert_relation_pred'] == 1)][stat]\n",
    "data2 = df[(df['relation_label'] == 1)][stat]\n",
    "bins = np.histogram(np.hstack((data1, data2)), bins=bins)[1]\n",
    "title = 'Non-component length - Reason: Correct predictions against all examples'\n",
    "\n",
    "plt.figure(figsize=(8,6))\n",
    "plt.hist(data1, bins=bins, alpha=0.5, color='red')\n",
    "plt.hist(data2, bins=bins, alpha=0.5, label=\"All reason examples\")\n",
    "plt.hist(data2[0:0], bins=bins, alpha=0.45, label=\"Correctly predicted reason examples\", color='purple')\n",
    "\n",
    "# plt.hist(df[df['relation_label'] == 1][stat], bins=bins, alpha=0.5, label=\"Reason\")\n",
    "plt.xlabel(\"Non-component Length\", size=14)\n",
    "plt.ylabel(\"Frequency\", size=14)\n",
    "# plt.title(title)\n",
    "plt.legend(loc='upper right')\n",
    "plt.savefig('images/RBERT-NCL')"
   ]
  },
  {
   "cell_type": "code",
   "execution_count": null,
   "metadata": {
    "pycharm": {
     "name": "#%%\n"
    }
   },
   "outputs": [],
   "source": [
    "stat = 'Non-component %'\n",
    "bins = 15\n",
    "data1 = df[(df['relation_label'] == 1) & (df['rbert_relation_pred'] == 1)][stat]\n",
    "data2 = df[(df['relation_label'] == 1)][stat]\n",
    "bins = np.histogram(np.hstack((data1, data2)), bins=bins)[1]\n",
    "title = 'Proportion of non-component tokens - Reason: Correct predictions against all examples'\n",
    "\n",
    "plt.figure(figsize=(8,6))\n",
    "plt.hist(data1, bins=bins, alpha=0.5, color='red')\n",
    "plt.hist(data2, bins=bins, alpha=0.5, label=\"All reason examples\")\n",
    "plt.hist(data2[0:0], bins=bins, alpha=0.45, label=\"Correctly predicted reason examples\", color='purple')\n",
    "\n",
    "# plt.hist(df[df['relation_label'] == 1][stat], bins=bins, alpha=0.5, label=\"Reason\")\n",
    "plt.xlabel(\"Non-component token %\", size=14)\n",
    "plt.ylabel(\"Frequency\", size=14)\n",
    "# plt.title(title)\n",
    "plt.legend(loc='upper right')\n",
    "plt.savefig('images/RBERT-NCOT')"
   ]
  },
  {
   "cell_type": "code",
   "execution_count": null,
   "metadata": {
    "pycharm": {
     "name": "#%%\n"
    }
   },
   "outputs": [],
   "source": [
    "stat = 'Non-component %'\n",
    "bins = 15\n",
    "data1 = df[(df['relation_label'] == 1) & (df['rbert_relation_pred'] == 1) & (df['Component Distance'] == 1)][stat]\n",
    "data2 = df[(df['relation_label'] == 1) & (df['Component Distance'] == 1)][stat]\n",
    "bins = np.histogram(np.hstack((data1, data2)), bins=bins)[1]\n",
    "title = 'Proportion of non-component tokens - Reason: Correct predictions against all examples'\n",
    "\n",
    "plt.figure(figsize=(8,6))\n",
    "plt.hist(data1, bins=bins, alpha=0.5, color='red')\n",
    "plt.hist(data2, bins=bins, alpha=0.5, label=\"All reason examples\")\n",
    "plt.hist(data2[0:0], bins=bins, alpha=0.45, label=\"Correctly predicted reason examples\", color='purple')\n",
    "\n",
    "# plt.hist(df[df['relation_label'] == 1][stat], bins=bins, alpha=0.5, label=\"Reason\")\n",
    "plt.xlabel(\"Non-component token %\", size=14)\n",
    "plt.ylabel(\"Frequency\", size=14)\n",
    "# plt.title(title)\n",
    "plt.legend(loc='upper right')\n",
    "plt.savefig('images/RBERT-NCOT-D1')"
   ]
  },
  {
   "cell_type": "code",
   "execution_count": null,
   "metadata": {
    "pycharm": {
     "name": "#%%\n"
    }
   },
   "outputs": [],
   "source": [
    "stat = 'Document Length'\n",
    "bins = 15\n",
    "data1 = df[(df['relation_label'] == 1) & (df['rbert_relation_pred'] == 1)][stat]\n",
    "data2 = df[(df['relation_label'] == 1)][stat]\n",
    "bins = np.histogram(np.hstack((data1, data2)), bins=bins)[1]\n",
    "title = 'Document length - Reason: Correct predictions against all examples'\n",
    "\n",
    "plt.figure(figsize=(8,6))\n",
    "plt.hist(data1, bins=bins, alpha=0.5, color='red')\n",
    "plt.hist(data2, bins=bins, alpha=0.5, label=\"All reason examples\")\n",
    "plt.hist(data2[0:0], bins=bins, alpha=0.45, label=\"Correctly predicted reason examples\", color='purple')\n",
    "# plt.hist(df[df['relation_label'] == 1][stat], bins=bins, alpha=0.5, label=\"Reason\")\n",
    "plt.xlabel(\"Document Length\", size=14)\n",
    "plt.ylabel(\"Frequency\", size=14)\n",
    "# plt.title(title)\n",
    "plt.legend(loc='upper right')\n",
    "plt.savefig('images/RBERT-DL')"
   ]
  },
  {
   "cell_type": "code",
   "execution_count": null,
   "metadata": {
    "pycharm": {
     "name": "#%%\n"
    }
   },
   "outputs": [],
   "source": [
    "stat = 'target_len'\n",
    "bins = 15\n",
    "data1 = df[(df['relation_label'] == 1) & (df['rbert_relation_pred'] == 1)][stat]\n",
    "data2 = df[(df['relation_label'] == 1)][stat]\n",
    "bins = np.histogram(np.hstack((data1, data2)), bins=bins)[1]\n",
    "title = 'Outer length - Reason: Correct predictions against all examples'\n",
    "\n",
    "plt.figure(figsize=(8,6))\n",
    "plt.hist(data1, bins=bins, alpha=0.5, color='red')\n",
    "plt.hist(data2, bins=bins, alpha=0.5, label=\"All reason examples\")\n",
    "plt.hist(data2[0:0], bins=bins, alpha=0.45, label=\"Correctly predicted reason examples\", color='purple')\n",
    "# plt.hist(df[df['relation_label'] == 1][stat], bins=bins, alpha=0.5, label=\"Reason\")\n",
    "plt.xlabel(\"Outer Length\", size=14)\n",
    "plt.ylabel(\"Frequency\", size=14)\n",
    "# plt.title(title)\n",
    "plt.legend(loc='upper right')\n",
    "plt.savefig('images/RBERT-OL')"
   ]
  },
  {
   "cell_type": "code",
   "execution_count": null,
   "metadata": {
    "pycharm": {
     "name": "#%%\n"
    }
   },
   "outputs": [],
   "source": [
    "stat = 'Bridge Length'\n",
    "bins = 30\n",
    "data1 = df[(df['relation_label'] == 1) & (df['dist_relation_pred'] == 1)][stat]\n",
    "data2 = df[(df['relation_label'] == 1)][stat]\n",
    "bins = np.histogram(np.hstack((data1, data2)), bins=bins)[1]\n",
    "title = 'DIST \\n Bridge length - Reason: Correct predictions against all examples'\n",
    "\n",
    "plt.figure(figsize=(8,6))\n",
    "plt.hist(data1, bins=bins, alpha=0.5, color='red')\n",
    "plt.hist(data2, bins=bins, alpha=0.5, label=\"All reason examples\")\n",
    "plt.hist(data2[0:0], bins=bins, alpha=0.45, label=\"Correctly predicted reason examples\", color='purple')\n",
    "# plt.hist(df[df['relation_label'] == 1][stat], bins=bins, alpha=0.5, label=\"Reason\")\n",
    "plt.xlabel(\"Bridge Length\", size=14)\n",
    "plt.ylabel(\"Frequency\", size=14)\n",
    "# plt.title(title)\n",
    "plt.legend(loc='upper right')\n",
    "plt.savefig('images/DIST-BL')"
   ]
  },
  {
   "cell_type": "code",
   "execution_count": null,
   "metadata": {
    "pycharm": {
     "name": "#%%\n"
    }
   },
   "outputs": [],
   "source": [
    "stat = 'Component Distance'\n",
    "bins = 15\n",
    "data1 = df[(df['relation_label'] == 1) & (df['dist_relation_pred'] == 1)][stat]\n",
    "data2 = df[(df['relation_label'] == 1)][stat]\n",
    "bins = np.histogram(np.hstack((data1, data2)), bins=bins)[1]\n",
    "title = 'DIST \\n Component Distance - Reason: Correct predictions against all examples'\n",
    "\n",
    "\n",
    "plt.figure(figsize=(8,6))\n",
    "plt.hist(data1, bins=bins, alpha=0.5, color='red')\n",
    "plt.hist(data2, bins=bins, alpha=0.5, label=\"All reason examples\")\n",
    "plt.hist(data2[0:0], bins=bins, alpha=0.45, label=\"Correctly predicted reason examples\", color='purple')\n",
    "# plt.hist(df[df['relation_label'] == 1][stat], bins=bins, alpha=0.5, label=\"Reason\")\n",
    "plt.xlabel(\"Component Distance\", size=14)\n",
    "plt.ylabel(\"Frequency\", size=14)\n",
    "plt.xticks([x + 1  for x in range(12)])\n",
    "# plt.title(title)\n",
    "plt.legend(loc='upper right')\n",
    "plt.savefig('images/DIST-CD')"
   ]
  },
  {
   "cell_type": "code",
   "execution_count": null,
   "metadata": {
    "pycharm": {
     "name": "#%%\n"
    }
   },
   "outputs": [],
   "source": [
    "stat = 'Non-component Length'\n",
    "bins = 15\n",
    "data1 = df[(df['relation_label'] == 1) & (df['dist_relation_pred'] == 1)][stat]\n",
    "data2 = df[(df['relation_label'] == 1)][stat]\n",
    "bins = np.histogram(np.hstack((data1, data2)), bins=bins)[1]\n",
    "title = 'DIST \\n Non-component length - Reason: Correct predictions against all examples'\n",
    "\n",
    "plt.figure(figsize=(8,6))\n",
    "plt.hist(data1, bins=bins, alpha=0.5, color='red')\n",
    "plt.hist(data2, bins=bins, alpha=0.5, label=\"All reason examples\")\n",
    "plt.hist(data2[0:0], bins=bins, alpha=0.45, label=\"Correctly predicted reason examples\", color='purple')\n",
    "# plt.hist(df[df['relation_label'] == 1][stat], bins=bins, alpha=0.5, label=\"Reason\")\n",
    "plt.xlabel(\"Non-component Length\", size=14)\n",
    "plt.ylabel(\"Frequency\", size=14)\n",
    "# plt.title(title)\n",
    "plt.legend(loc='upper right')\n",
    "plt.savefig('images/DIST-NCL')"
   ]
  },
  {
   "cell_type": "code",
   "execution_count": null,
   "metadata": {
    "pycharm": {
     "name": "#%%\n"
    }
   },
   "outputs": [],
   "source": [
    "stat = 'Non-component Length'\n",
    "bins = 15\n",
    "data1 = df[(df['relation_label'] == 1) & (df['dist_relation_pred'] == 1) & (df['Component Distance'] == 1)][stat]\n",
    "data2 = df[(df['relation_label'] == 1) & (df['Component Distance'] == 1)][stat]\n",
    "bins = np.histogram(np.hstack((data1, data2)), bins=bins)[1]\n",
    "title = 'DIST \\n Non-component length - Reason: Correct predictions against all examples'\n",
    "\n",
    "plt.figure(figsize=(8,6))\n",
    "plt.hist(data1, bins=bins, alpha=0.5, color='red')\n",
    "plt.hist(data2, bins=bins, alpha=0.5, label=\"All reason examples\")\n",
    "plt.hist(data2[0:0], bins=bins, alpha=0.45, label=\"Correctly predicted reason examples\", color='purple')\n",
    "# plt.hist(df[df['relation_label'] == 1][stat], bins=bins, alpha=0.5, label=\"Reason\")\n",
    "plt.xlabel(\"Non-component Length\", size=14)\n",
    "plt.ylabel(\"Frequency\", size=14)\n",
    "# plt.title(title)\n",
    "plt.legend(loc='upper right')\n",
    "plt.savefig('images/DIST-NCL-D1')"
   ]
  },
  {
   "cell_type": "code",
   "execution_count": null,
   "metadata": {
    "pycharm": {
     "name": "#%%\n"
    }
   },
   "outputs": [],
   "source": [
    "stat = 'source_len'\n",
    "bins = 15\n",
    "data1 = df[(df['relation_label'] == 1) & (df['dist_relation_pred'] == 1)][stat]\n",
    "data2 = df[(df['relation_label'] == 1)][stat]\n",
    "bins = np.histogram(np.hstack((data1, data2)), bins=bins)[1]\n",
    "title = 'DIST \\n Non-component length - Reason: Correct predictions against all examples'\n",
    "\n",
    "plt.figure(figsize=(8,6))\n",
    "plt.hist(data1, bins=bins, alpha=0.5, color='red')\n",
    "plt.hist(data2, bins=bins, alpha=0.5, label=\"All reason examples\")\n",
    "plt.hist(data2[0:0], bins=bins, alpha=0.45, label=\"Correctly predicted reason examples\", color='purple')\n",
    "# plt.hist(df[df['relation_label'] == 1][stat], bins=bins, alpha=0.5, label=\"Reason\")\n",
    "plt.xlabel(\"Non-component Length\", size=14)\n",
    "plt.ylabel(\"Frequency\", size=14)\n",
    "# plt.title(title)\n",
    "plt.legend(loc='upper right')\n",
    "plt.savefig('images/DIST-SL')"
   ]
  },
  {
   "cell_type": "code",
   "execution_count": null,
   "metadata": {
    "pycharm": {
     "name": "#%%\n"
    }
   },
   "outputs": [],
   "source": [
    "def plot_proportional_change(stat, verbose=False):\n",
    "    data1 = df[(df['relation_label'] == 1) & (df['dist_relation_pred'] == 1)][stat]\n",
    "    data2 = df[(df['relation_label'] == 1)][stat]\n",
    "    bins = 15\n",
    "\n",
    "    _, bin1 = pd.cut(data2, bins, retbins=True)\n",
    "    bins = pd.IntervalIndex.from_breaks(bin1)\n",
    "\n",
    "    binned_dist = pd.cut(data1, bins)\n",
    "    bin_vc_dist = binned_dist.value_counts()\n",
    "\n",
    "    binned_all = pd.cut(data2, bins)\n",
    "    bin_vc_all = binned_all.value_counts()\n",
    "\n",
    "    dist_NCP_proportion = (bin_vc_dist / bin_vc_all).fillna(0)\n",
    "\n",
    "    data3 = df[(df['relation_label'] == 1) & (df['rbert_relation_pred'] == 1)][stat]\n",
    "\n",
    "    binned_rbert = pd.cut(data3, bins)\n",
    "    bin_vc_rbert = binned_rbert.value_counts()\n",
    "\n",
    "    rbert_NCP_proportion = (bin_vc_rbert / bin_vc_all).fillna(0)\n",
    "    proportion_change = (rbert_NCP_proportion - dist_NCP_proportion) * 100\n",
    "\n",
    "    midpoints = [(bin1[x] + bin1[x+1]) / 2 for x in range(0, len(bin1) -1 , 1)]\n",
    "\n",
    "    p_plus = [x for x in proportion_change.values if x >= 0]\n",
    "    p_neg = [x for x in proportion_change.values if x < 0]\n",
    "    mid_plus = [midpoints[x] for x, y in enumerate(proportion_change.values) if y >= 0]\n",
    "    mid_neg = [midpoints[x] for x, y in enumerate(proportion_change.values) if y < 0]\n",
    "\n",
    "    if verbose:\n",
    "        print(p_plus)\n",
    "        print(bin1)\n",
    "        print((bin1[0] + bin1[1]) / 2)\n",
    "        print(midpoints)\n",
    "        print(max(proportion_change.index).right)\n",
    "        print(len(midpoints))\n",
    "        print(len(proportion_change))\n",
    "        print(len(p_plus))\n",
    "        print(len(mid_plus))\n",
    "        print(len(p_neg))\n",
    "        print(len(mid_neg))\n",
    "\n",
    "    # plt.bar(midpoints, proportion_change, alpha=0.7, width=(max(proportion_change.index).right / len(midpoints)))\n",
    "    plt.bar(mid_plus, p_plus, alpha=0.7, width=(max(proportion_change.index).right / len(midpoints)))\n",
    "    plt.bar(mid_neg, p_neg, alpha=0.7, color='red', width=(max(proportion_change.index).right / len(midpoints)))\n",
    "\n",
    "    plt.axhline(y=0, color='black', linestyle='-')\n",
    "\n",
    "    # plt.title(stat + \" proportional change between RBERT and DIST Correct predictions\")\n",
    "    plt.xlabel(stat, size=14)\n",
    "    plt.ylabel(\"%\", size=14)\n",
    "    plt.yticks([ x for x in range(-100, 125, 25)])\n",
    "    plt.show()"
   ]
  },
  {
   "cell_type": "code",
   "execution_count": null,
   "metadata": {
    "pycharm": {
     "name": "#%%\n"
    }
   },
   "outputs": [],
   "source": [
    "def plot_proportional_change_nobins(stat, verbose=False):\n",
    "    data1 = df[(df['relation_label'] == 1) & (df['dist_relation_pred'] == 1)][stat]\n",
    "    data2 = df[(df['relation_label'] == 1)][stat]\n",
    "\n",
    "    vc_dist = data1.value_counts().sort_index()[0:5]\n",
    "    vc_all = data2.value_counts().sort_index()[0:5]\n",
    "\n",
    "    dist_NCP_proportion = (vc_dist / vc_all).fillna(0)\n",
    "\n",
    "    data3 = df[(df['relation_label'] == 1) & (df['rbert_relation_pred'] == 1)][stat]\n",
    "\n",
    "    vc_rbert = data3.value_counts().sort_index()[0:5]\n",
    "\n",
    "    rbert_NCP_proportion = (vc_rbert / vc_all).fillna(0)\n",
    "\n",
    "    change = (rbert_NCP_proportion - dist_NCP_proportion) * 100\n",
    "\n",
    "    midpoints = [1,2,3,4,5]\n",
    "\n",
    "    print(change)\n",
    "\n",
    "    p_plus = [x for x in change.values if x >= 0]\n",
    "    p_neg = [x for x in change.values if x < 0]\n",
    "    mid_plus = [midpoints[x] for x, y in enumerate(change.values) if y >= 0]\n",
    "    mid_neg = [midpoints[x] for x, y in enumerate(change.values) if y < 0]\n",
    "\n",
    "    if verbose:\n",
    "        print(p_plus)\n",
    "        print(midpoints)\n",
    "        print(max(change.index).right)\n",
    "        print(len(midpoints))\n",
    "        print(len(change))\n",
    "        print(len(p_plus))\n",
    "        print(len(mid_plus))\n",
    "        print(len(p_neg))\n",
    "        print(len(mid_neg))\n",
    "\n",
    "    # plt.bar(midpoints, proportion_change, alpha=0.7, width=(max(proportion_change.index).right / len(midpoints)))\n",
    "    plt.bar(mid_plus, p_plus, alpha=0.7, width=1)\n",
    "    plt.bar(mid_neg, p_neg, alpha=0.7, color='red', width=1)\n",
    "\n",
    "    plt.axhline(y=0, color='black', linestyle='-')\n",
    "\n",
    "    # plt.title(stat + \" proportional change between RBERT and DIST Correct predictions\")\n",
    "    plt.xlabel(stat, size=14)\n",
    "    plt.ylabel(\"%\", size=14)\n",
    "    plt.xticks([1,2,3,4,5])\n",
    "    plt.yticks([ x for x in range(-100, 125, 25)])\n",
    "    # plt.savefig('images/CD-Prop')\n",
    "    plt.show()\n",
    "\n",
    "plot_proportional_change_nobins('Component Distance')"
   ]
  },
  {
   "cell_type": "code",
   "execution_count": null,
   "metadata": {
    "pycharm": {
     "name": "#%%\n"
    }
   },
   "outputs": [],
   "source": [
    "def plot_proportional_change_d1(stat, verbose=False):\n",
    "    data1 = df[(df['relation_label'] == 1) & (df['dist_relation_pred'] == 1) & (df['Component Distance'] == 1)][stat]\n",
    "    data2 = df[(df['relation_label'] == 1) & (df['Component Distance'] == 1)][stat]\n",
    "    bins = 15\n",
    "\n",
    "    _, bin1 = pd.cut(data2, bins, retbins=True)\n",
    "    bins = pd.IntervalIndex.from_breaks(bin1)\n",
    "\n",
    "    binned_dist = pd.cut(data1, bins)\n",
    "    bin_vc_dist = binned_dist.value_counts()\n",
    "\n",
    "    binned_all = pd.cut(data2, bins)\n",
    "    bin_vc_all = binned_all.value_counts()\n",
    "\n",
    "    dist_NCP_proportion = (bin_vc_dist / bin_vc_all).fillna(0)\n",
    "\n",
    "    data3 = df[(df['relation_label'] == 1) & (df['rbert_relation_pred'] == 1) & (df['Component Distance'] == 1)][stat]\n",
    "\n",
    "    binned_rbert = pd.cut(data3, bins)\n",
    "    bin_vc_rbert = binned_rbert.value_counts()\n",
    "\n",
    "    rbert_NCP_proportion = (bin_vc_rbert / bin_vc_all).fillna(0)\n",
    "    proportion_change = (rbert_NCP_proportion - dist_NCP_proportion) * 100\n",
    "\n",
    "    midpoints = [(bin1[x] + bin1[x+1]) / 2 for x in range(0, len(bin1) -1 , 1)]\n",
    "\n",
    "    p_plus = [x for x in proportion_change.values if x >= 0]\n",
    "    p_neg = [x for x in proportion_change.values if x < 0]\n",
    "    mid_plus = [midpoints[x] for x, y in enumerate(proportion_change.values) if y >= 0]\n",
    "    mid_neg = [midpoints[x] for x, y in enumerate(proportion_change.values) if y < 0]\n",
    "\n",
    "    if verbose:\n",
    "        print(p_plus)\n",
    "        print(bin1)\n",
    "        print((bin1[0] + bin1[1]) / 2)\n",
    "        print(midpoints)\n",
    "        print(max(proportion_change.index).right)\n",
    "        print(len(midpoints))\n",
    "        print(len(proportion_change))\n",
    "        print(len(p_plus))\n",
    "        print(len(mid_plus))\n",
    "        print(len(p_neg))\n",
    "        print(len(mid_neg))\n",
    "\n",
    "    # plt.bar(midpoints, proportion_change, alpha=0.7, width=(max(proportion_change.index).right / len(midpoints)))\n",
    "    plt.bar(mid_plus, p_plus, alpha=0.7, width=(max(proportion_change.index).right / len(midpoints)))\n",
    "    plt.bar(mid_neg, p_neg, alpha=0.7, color='red', width=(max(proportion_change.index).right / len(midpoints)))\n",
    "\n",
    "    plt.axhline(y=0, color='black', linestyle='-')\n",
    "\n",
    "    # plt.title(stat + \" proportional change between RBERT and DIST Correct predictions\")\n",
    "    plt.xlabel(stat, size=14)\n",
    "    plt.ylabel(\"%\", size=14)\n",
    "    plt.yticks([ x for x in range(-100, 125, 25)])\n",
    "    plt.savefig('images/NCL-Prop')\n",
    "    plt.show()"
   ]
  },
  {
   "cell_type": "code",
   "execution_count": null,
   "metadata": {
    "pycharm": {
     "name": "#%%\n"
    }
   },
   "outputs": [],
   "source": [
    "def plot_net_change(stat, verbose=False):\n",
    "    data1 = df[(df['relation_label'] == 1) & (df['dist_relation_pred'] == 1)][stat]\n",
    "    data2 = df[(df['relation_label'] == 1)][stat]\n",
    "    bins = 15\n",
    "\n",
    "    _, bin1 = pd.cut(data2, bins, retbins=True)\n",
    "    bins = pd.IntervalIndex.from_breaks(bin1)\n",
    "\n",
    "    binned_dist = pd.cut(data1, bins)\n",
    "    bin_vc_dist = binned_dist.value_counts()\n",
    "\n",
    "    dist_NCP = bin_vc_dist.fillna(0)\n",
    "\n",
    "    data3 = df[(df['relation_label'] == 1) & (df['rbert_relation_pred'] == 1)][stat]\n",
    "\n",
    "    binned_rbert = pd.cut(data3, bins)\n",
    "    bin_vc_rbert = binned_rbert.value_counts()\n",
    "\n",
    "    rbert_NCP = (bin_vc_rbert).fillna(0)\n",
    "\n",
    "    change = rbert_NCP - dist_NCP\n",
    "\n",
    "    midpoints = [(bin1[x] + bin1[x+1]) / 2 for x in range(0, len(bin1) -1 , 1)]\n",
    "\n",
    "    p_plus = [x for x in change.values if x >= 0]\n",
    "    p_neg = [x for x in change.values if x < 0]\n",
    "    mid_plus = [midpoints[x] for x, y in enumerate(change.values) if y >= 0]\n",
    "    mid_neg = [midpoints[x] for x, y in enumerate(change.values) if y < 0]\n",
    "\n",
    "    if verbose:\n",
    "        print(p_plus)\n",
    "        print(bin1)\n",
    "        print((bin1[0] + bin1[1]) / 2)\n",
    "        print(midpoints)\n",
    "        print(max(change.index).right)\n",
    "        print(len(midpoints))\n",
    "        print(len(change))\n",
    "        print(len(p_plus))\n",
    "        print(len(mid_plus))\n",
    "        print(len(p_neg))\n",
    "        print(len(mid_neg))\n",
    "\n",
    "    # plt.bar(midpoints, proportion_change, alpha=0.7, width=(max(proportion_change.index).right / len(midpoints)))\n",
    "    plt.bar(mid_plus, p_plus, alpha=0.7, width=(max(change.index).right / len(midpoints)))\n",
    "    plt.bar(mid_neg, p_neg, alpha=0.7, color='red', width=(max(change.index).right / len(midpoints)))\n",
    "\n",
    "    plt.axhline(y=0, color='black', linestyle='-')\n",
    "\n",
    "    # plt.title(stat + \" net change between RBERT and DIST Correct predictions\")\n",
    "    plt.xlabel(stat, size=14)\n",
    "    plt.ylabel(\"Frequency\", size=14)\n",
    "    # plt.yticks([ x / 100 for x in range(-100, 125, 25)])\n",
    "    plt.show()\n",
    "    \n",
    "# plot_proportional_change('Non-component %')\n",
    "# plot_change('Document Length')\n",
    "# plot_change('Non-component Length')\n",
    "# plot_proportional_change('Bridge Length')\n",
    "# plot_net_change('Bridge Length')\n",
    "# plot_proportional_change('Component Distance')\n",
    "# plot_net_change('Component Distance')\n",
    "# plot_proportional_change('Document Length')\n",
    "# plot_net_change('Document Length')\n",
    "# plot_proportional_change('Non-component %')\n",
    "# plot_net_change('Non-component %')\n",
    "# plot_proportional_change_d1('Non-component %')\n",
    "\n",
    "plot_proportional_change('Non-component Length')\n",
    "plot_net_change('Non-component Length')\n",
    "plot_proportional_change_d1('Non-component Length')"
   ]
  },
  {
   "cell_type": "code",
   "execution_count": null,
   "metadata": {
    "pycharm": {
     "name": "#%%\n"
    }
   },
   "outputs": [],
   "source": [
    "plot_proportional_change('Document Length')\n",
    "plot_net_change('Document Length')\n",
    "plot_proportional_change_d1('Document Length')"
   ]
  },
  {
   "cell_type": "code",
   "execution_count": null,
   "metadata": {
    "pycharm": {
     "name": "#%%\n"
    }
   },
   "outputs": [],
   "source": [
    "plot_proportional_change('Outer Length')\n",
    "plot_net_change('Outer Length')\n",
    "plot_proportional_change_d1('Outer Length')"
   ]
  },
  {
   "cell_type": "code",
   "execution_count": null,
   "metadata": {
    "pycharm": {
     "name": "#%%\n"
    }
   },
   "outputs": [],
   "source": [
    "stat = 'Non-component %'\n",
    "bins = 15\n",
    "data1 = df[(df['relation_label'] == 1) & (df['dist_relation_pred'] == 1)][stat]\n",
    "data2 = df[(df['relation_label'] == 1)][stat]\n",
    "bins = np.histogram(np.hstack((data1, data2)), bins=bins)[1]\n",
    "title = 'DIST \\n Non-component / doc length - Reason: Correct predictions against all examples'\n",
    "print(bins)\n",
    "plt.figure(figsize=(8,6))\n",
    "plt.hist(data1, bins=bins, alpha=0.5, color='red')\n",
    "plt.hist(data2, bins=bins, alpha=0.5, label=\"All reason examples\")\n",
    "plt.hist(data2[0:0], bins=bins, alpha=0.45, label=\"Correctly predicted reason examples\", color='purple')\n",
    "\n",
    "# plt.hist(df[df['relation_label'] == 1][stat], bins=bins, alpha=0.5, label=\"Reason\")\n",
    "plt.xlabel(\"Non-component token %\", size=14)\n",
    "plt.ylabel(\"Frequency\", size=14)\n",
    "# plt.title(title)\n",
    "plt.legend(loc='upper right')\n",
    "plt.savefig('images/DIST-NCOT')"
   ]
  },
  {
   "cell_type": "code",
   "execution_count": null,
   "metadata": {
    "pycharm": {
     "name": "#%%\n"
    }
   },
   "outputs": [],
   "source": [
    "stat = 'Document Length'\n",
    "bins = 15\n",
    "data1 = df[(df['relation_label'] == 1) & (df['dist_relation_pred'] == 1)][stat]\n",
    "data2 = df[(df['relation_label'] == 1)][stat]\n",
    "bins = np.histogram(np.hstack((data1, data2)), bins=bins)[1]\n",
    "title = 'DIST \\n Document length - Reason: Correct predictions against all examples'\n",
    "\n",
    "plt.figure(figsize=(8,6))\n",
    "plt.hist(data1, bins=bins, alpha=0.5, color='red')\n",
    "plt.hist(data2, bins=bins, alpha=0.5, label=\"All reason examples\")\n",
    "plt.hist(data2[0:0], bins=bins, alpha=0.45, label=\"Correctly predicted reason examples\", color='purple')\n",
    "\n",
    "# plt.hist(df[df['relation_label'] == 1][stat], bins=bins, alpha=0.5, label=\"Reason\")\n",
    "plt.xlabel(\"Document Length\", size=14)\n",
    "plt.ylabel(\"Frequency\", size=14)\n",
    "# plt.title(title)\n",
    "plt.legend(loc='upper right')\n",
    "plt.savefig('images/DIST-DL')"
   ]
  },
  {
   "cell_type": "code",
   "execution_count": null,
   "metadata": {
    "pycharm": {
     "name": "#%%\n"
    }
   },
   "outputs": [],
   "source": [
    "stat = 'Bridge Length'\n",
    "bins = 15\n",
    "data1 = df[(df['relation_label'] == 1) & (df['dist_relation_pred'] == 1)][stat]\n",
    "data2 = df[(df['relation_label'] == 1) & (df['rbert_relation_pred'] == 1)][stat]\n",
    "bins = np.histogram(np.hstack((data1, data2)), bins=bins)[1]\n",
    "title = 'DIST vs Bridge length - Reason: Correct predictions'\n",
    "\n",
    "plt.figure(figsize=(8,6))\n",
    "plt.hist(data1, bins=bins, alpha=0.5, label=\"DIST Correct\", color='red')\n",
    "plt.hist(data2, bins=bins, alpha=0.5, label=\"RBERT Correct\")\n",
    "plt.hist(data2[0:0], bins=bins, alpha=0.45, label=\"Both Correct\", color='purple')\n",
    "# plt.hist(df[df['relation_label'] == 1][stat], bins=bins, alpha=0.5, label=\"Reason\")\n",
    "plt.xlabel(\"Bridge Length\", size=14)\n",
    "plt.ylabel(\"Frequency\", size=14)\n",
    "# plt.title(title)\n",
    "plt.legend(loc='upper right')\n",
    "plt.savefig('images/RBERTvDIST-BL')"
   ]
  },
  {
   "cell_type": "code",
   "execution_count": null,
   "metadata": {
    "pycharm": {
     "name": "#%%\n"
    }
   },
   "outputs": [],
   "source": [
    "stat = 'Non-component Length'\n",
    "bins = 15\n",
    "data1 = df[(df['relation_label'] == 1) & (df['dist_relation_pred'] == 1)][stat]\n",
    "data2 = df[(df['relation_label'] == 1) & (df['rbert_relation_pred'] == 1)][stat]\n",
    "bins = np.histogram(np.hstack((data1, data2)), bins=bins)[1]\n",
    "title = 'DIST vs Non-component length - Reason: Correct predictions'\n",
    "\n",
    "plt.figure(figsize=(8,6))\n",
    "plt.hist(data1, bins=bins, alpha=0.5, label=\"DIST Correct\", color='red')\n",
    "plt.hist(data2, bins=bins, alpha=0.5, label=\"RBERT Correct\")\n",
    "plt.hist(data2[0:0], bins=bins, alpha=0.45, label=\"Both Correct\", color='purple')\n",
    "# plt.hist(df[df['relation_label'] == 1][stat], bins=bins, alpha=0.5, label=\"Reason\")\n",
    "plt.xlabel(\"Non-component length\", size=14)\n",
    "plt.ylabel(\"Frequency\", size=14)\n",
    "# plt.title(title)\n",
    "plt.legend(loc='upper right')\n",
    "plt.savefig('images/RBERTvDIST-NCL')"
   ]
  },
  {
   "cell_type": "code",
   "execution_count": null,
   "metadata": {
    "pycharm": {
     "name": "#%%\n"
    }
   },
   "outputs": [],
   "source": [
    "stat = 'Document Length'\n",
    "bins = 15\n",
    "data1 = df[(df['relation_label'] == 1) & (df['dist_relation_pred'] == 1)][stat]\n",
    "data2 = df[(df['relation_label'] == 1) & (df['rbert_relation_pred'] == 1)][stat]\n",
    "bins = np.histogram(np.hstack((data1, data2)), bins=bins)[1]\n",
    "title = 'DIST vs Document length - Reason: Correct predictions'\n",
    "\n",
    "plt.figure(figsize=(8,6))\n",
    "plt.hist(data1, bins=bins, alpha=0.5, label=\"DIST Correct\", color='red')\n",
    "plt.hist(data2, bins=bins, alpha=0.5, label=\"RBERT Correct\")\n",
    "plt.hist(data2[0:0], bins=bins, alpha=0.45, label=\"Both Correct\", color='purple')\n",
    "\n",
    "# plt.hist(df[df['relation_label'] == 1][stat], bins=bins, alpha=0.5, label=\"Reason\")\n",
    "plt.xlabel(\"Document Length\", size=14)\n",
    "plt.ylabel(\"Frequency\", size=14)\n",
    "# plt.title(title)\n",
    "plt.legend(loc='upper right')\n",
    "plt.savefig('images/RBERTvDIST-DL')"
   ]
  },
  {
   "cell_type": "code",
   "execution_count": null,
   "metadata": {
    "pycharm": {
     "name": "#%%\n"
    }
   },
   "outputs": [],
   "source": [
    "stat = 'target_len'\n",
    "bins = 15\n",
    "data1 = df[(df['relation_label'] == 1) & (df['dist_relation_pred'] == 1)][stat]\n",
    "data2 = df[(df['relation_label'] == 1) & (df['rbert_relation_pred'] == 1)][stat]\n",
    "bins = np.histogram(np.hstack((data1, data2)), bins=bins)[1]\n",
    "title = 'DIST vs Document length - Reason: Correct predictions'\n",
    "\n",
    "plt.figure(figsize=(8,6))\n",
    "plt.hist(data1, bins=bins, alpha=0.5, label=\"DIST Correct\", color='red')\n",
    "plt.hist(data2, bins=bins, alpha=0.5, label=\"RBERT Correct\")\n",
    "plt.hist(data2[0:0], bins=bins, alpha=0.45, label=\"Both Correct\", color='purple')\n",
    "\n",
    "# plt.hist(df[df['relation_label'] == 1][stat], bins=bins, alpha=0.5, label=\"Reason\")\n",
    "plt.xlabel(\"Document Length\", size=14)\n",
    "plt.ylabel(\"Frequency\", size=14)\n",
    "# plt.title(title)\n",
    "plt.legend(loc='upper right')"
   ]
  },
  {
   "cell_type": "code",
   "execution_count": null,
   "metadata": {
    "pycharm": {
     "name": "#%%\n"
    }
   },
   "outputs": [],
   "source": [
    "len(data1)"
   ]
  },
  {
   "cell_type": "code",
   "execution_count": null,
   "metadata": {
    "pycharm": {
     "name": "#%%\n"
    }
   },
   "outputs": [],
   "source": [
    "# Common correct preds\n",
    "rsn_dist_c_rbert_c = rsn[(rsn['dist_relation_pred'] == 1) & (rsn['rbert_relation_pred'] == 1)]\n",
    "\n",
    "plt.hist(rsn_dist_c_rbert_c['Bridge Length'], bins=25)\n",
    "\n",
    "rsn_dist_c_rbert_c_mean = process_means(rsn_dist_c_rbert_c, 'Both Correct')\n",
    "\n",
    "rsn_dist_c_rbert_c_mean"
   ]
  },
  {
   "cell_type": "code",
   "execution_count": null,
   "metadata": {
    "pycharm": {
     "name": "#%%\n"
    }
   },
   "outputs": [],
   "source": [
    "# Common incorrect preds\n",
    "rsn_dist_f_rbert_f = rsn[(rsn['dist_relation_pred'] != 1) & (rsn['rbert_relation_pred'] != 1)]\n",
    "# rsn_dist_f_rbert_f_mean = pd.Series(rsn_dist_f_rbert_f.mean()[:], name='Both Incorrect')\n",
    "# rsn_dist_f_rbert_f_mean['count'] = len(rsn_dist_f_rbert_f)\n",
    "rsn_dist_f_rbert_f_mean = process_means(rsn_dist_f_rbert_f, 'Both Incorrect')\n",
    "\n",
    "rsn_dist_f_rbert_c = rsn[(rsn['dist_relation_pred'] != 1) & (rsn['rbert_relation_pred'] == 1)]\n",
    "# rsn_dist_f_rbert_c_mean = pd.Series(rsn_dist_f_rbert_c.mean()[:], name='RBERT not Dist')\n",
    "# rsn_dist_f_rbert_c_mean['count'] = len(rsn_dist_f_rbert_c)\n",
    "rsn_dist_f_rbert_c_mean = process_means(rsn_dist_f_rbert_c, 'RBERT not Dist')\n",
    "\n",
    "rsn_dist_c_rbert_f = rsn[(rsn['dist_relation_pred'] == 1) & (rsn['rbert_relation_pred'] != 1)]\n",
    "# rsn_dist_c_rbert_f_mean = pd.Series(rsn_dist_c_rbert_f.mean()[:], name='Dist not RBERT')\n",
    "# rsn_dist_c_rbert_f_mean['count'] = len(rsn_dist_c_rbert_f)\n",
    "rsn_dist_c_rbert_f_mean = process_means(rsn_dist_c_rbert_f, 'Dist not RBERT')\n",
    "\n",
    "means2 = pd.DataFrame(rsn_mean)\n",
    "means2 = means2.join(rsn_dist_c_rbert_c_mean)\n",
    "means2 = means2.join(rsn_dist_f_rbert_f_mean)\n",
    "means2 = means2.join(rsn_dist_f_rbert_c_mean)\n",
    "means2 = means2.join(rsn_dist_c_rbert_f_mean)\n",
    "means2 = means2.round(2)\n",
    "\n",
    "means2\n"
   ]
  },
  {
   "cell_type": "code",
   "execution_count": null,
   "metadata": {
    "pycharm": {
     "name": "#%%\n"
    }
   },
   "outputs": [],
   "source": [
    "rsn_dist_c_rbert_c"
   ]
  },
  {
   "cell_type": "code",
   "execution_count": null,
   "metadata": {
    "pycharm": {
     "name": "#%%\n"
    }
   },
   "outputs": [],
   "source": [
    "for idx in rsn_dist_c_rbert_c.index:\n",
    "    print('Doc ID: {}'.format(text_info[idx]['document_id']))\n",
    "    print(text_info[idx]['text'])\n",
    "    print(text_info[idx]['tokens'])\n",
    "    print('-------------------------')\n",
    "    print()"
   ]
  },
  {
   "cell_type": "code",
   "execution_count": null,
   "metadata": {
    "pycharm": {
     "name": "#%%\n"
    }
   },
   "outputs": [],
   "source": [
    "for idx in rsn_dist_f_rbert_f.index:\n",
    "    print('Doc ID: {}'.format(text_info[idx]['document_id']))\n",
    "    print(text_info[idx]['text'])\n",
    "    print(text_info[idx]['tokens'])\n",
    "    print('-------------------------')\n",
    "    print()"
   ]
  },
  {
   "cell_type": "code",
   "execution_count": null,
   "metadata": {
    "pycharm": {
     "name": "#%%\n"
    }
   },
   "outputs": [],
   "source": [
    "both_correct_docs = set(rsn_dist_c_rbert_c['document_id'].values)\n",
    "both_incorrect_docs = set(rsn_dist_f_rbert_f['document_id'].values)\n",
    "\n",
    "both_correct_docs.intersection(both_incorrect_docs)"
   ]
  },
  {
   "cell_type": "code",
   "execution_count": null,
   "metadata": {
    "pycharm": {
     "name": "#%%\n"
    }
   },
   "outputs": [],
   "source": [
    "both_correct_docs.difference(both_incorrect_docs)"
   ]
  },
  {
   "cell_type": "code",
   "execution_count": null,
   "metadata": {
    "pycharm": {
     "name": "#%%\n"
    }
   },
   "outputs": [],
   "source": [
    "rbert_correct = set(rbert_rsn_c['document_id'].values)\n",
    "dist_correct = set(dist_rsn_c['document_id'].values)\n",
    "\n",
    "bi = both_incorrect_docs.copy()\n",
    "bi.difference_update(rbert_correct)\n",
    "bi.difference_update(dist_correct)\n",
    "bi"
   ]
  },
  {
   "cell_type": "code",
   "execution_count": null,
   "metadata": {
    "pycharm": {
     "name": "#%%\n"
    }
   },
   "outputs": [],
   "source": [
    "bi"
   ]
  },
  {
   "cell_type": "code",
   "execution_count": null,
   "metadata": {
    "pycharm": {
     "name": "#%%\n"
    }
   },
   "outputs": [],
   "source": [
    "count = 0\n",
    "for text in text_info:\n",
    "    if text['document_id'] in bi and text['relation_label'] == 1:\n",
    "        print(text['text'])\n",
    "        print(text['tokens'])\n",
    "        print('-------------------------')\n",
    "        print()\n",
    "        count += 1"
   ]
  },
  {
   "cell_type": "code",
   "execution_count": null,
   "metadata": {
    "pycharm": {
     "name": "#%%\n"
    }
   },
   "outputs": [],
   "source": [
    "adj_200 = rsn[(rsn['Component Distance']) == 1\n",
    "                                      & (rsn['Non-component Length'] >= 183.6)\n",
    "                                      & (rsn['Non-component Length'] <= 213.86667)\n",
    "                                      & (rsn['relation_label'] != rsn['rbert_relation_pred'])]\n",
    "process_means(adj_200, 'adj200')\n",
    "adj_200"
   ]
  },
  {
   "cell_type": "code",
   "execution_count": null,
   "metadata": {
    "pycharm": {
     "name": "#%%\n"
    }
   },
   "outputs": [],
   "source": [
    "for doc_id in dist_long_correct_ids:\n",
    "    print(rbert_rsn_c[rbert_rsn_c['document_id'] == doc_id].index)"
   ]
  },
  {
   "cell_type": "code",
   "execution_count": null,
   "metadata": {
    "pycharm": {
     "name": "#%%\n"
    }
   },
   "outputs": [],
   "source": [
    "rbert_rsn_c.iloc[3138]"
   ]
  },
  {
   "cell_type": "code",
   "execution_count": null,
   "metadata": {
    "pycharm": {
     "name": "#%%\n"
    }
   },
   "outputs": [],
   "source": [
    "count = 0\n",
    "for text in text_info:\n",
    "    if text['document_id'] in bi and text['relation_label'] == 1:\n",
    "        print(text['text'])\n",
    "        print(text['tokens'])\n",
    "        print('-------------------------')\n",
    "        print()\n",
    "        count += 1"
   ]
  },
  {
   "cell_type": "code",
   "execution_count": null,
   "metadata": {
    "pycharm": {
     "name": "#%%\n"
    }
   },
   "outputs": [],
   "source": [
    "print(count)"
   ]
  },
  {
   "cell_type": "code",
   "execution_count": null,
   "metadata": {
    "pycharm": {
     "name": "#%%\n"
    }
   },
   "outputs": [],
   "source": [
    "text_info['document_id' == 2]"
   ]
  },
  {
   "cell_type": "code",
   "execution_count": null,
   "metadata": {
    "pycharm": {
     "name": "#%%\n"
    }
   },
   "outputs": [],
   "source": [
    "incorrect = set(df[df['relation_label'] != df['rbert_relation_pred']]['document_id'])\n",
    "correct = set(df[df['relation_label'] == df['rbert_relation_pred']]['document_id'])\n",
    "\n",
    "incorrect.difference(correct)"
   ]
  },
  {
   "cell_type": "code",
   "execution_count": null,
   "metadata": {
    "pycharm": {
     "name": "#%%\n"
    }
   },
   "outputs": [],
   "source": [
    "rbert_rsn_c.sort_values('Non-component Length')"
   ]
  },
  {
   "cell_type": "code",
   "execution_count": null,
   "metadata": {
    "pycharm": {
     "name": "#%%\n"
    }
   },
   "outputs": [],
   "source": [
    "rsn[rsn['document_id'] == 8]"
   ]
  },
  {
   "cell_type": "code",
   "execution_count": null,
   "metadata": {
    "pycharm": {
     "name": "#%%\n"
    }
   },
   "outputs": [],
   "source": [
    "text_info[7531]['text']"
   ]
  },
  {
   "cell_type": "code",
   "execution_count": null,
   "metadata": {
    "pycharm": {
     "name": "#%%\n"
    }
   },
   "outputs": [],
   "source": [
    "text_info[144]['text']"
   ]
  },
  {
   "cell_type": "code",
   "execution_count": null,
   "metadata": {
    "pycharm": {
     "name": "#%%\n"
    }
   },
   "outputs": [],
   "source": [
    "text_info[158]['text']"
   ]
  },
  {
   "cell_type": "code",
   "execution_count": null,
   "metadata": {
    "pycharm": {
     "name": "#%%\n"
    }
   },
   "outputs": [],
   "source": [
    "text_info[160]['text']"
   ]
  },
  {
   "cell_type": "code",
   "execution_count": null,
   "metadata": {
    "pycharm": {
     "name": "#%%\n"
    }
   },
   "outputs": [],
   "source": [
    "text_info[8238]['text']"
   ]
  },
  {
   "cell_type": "code",
   "execution_count": null,
   "metadata": {
    "pycharm": {
     "name": "#%%\n"
    }
   },
   "outputs": [],
   "source": [
    "text_info[4771]['text']"
   ]
  },
  {
   "cell_type": "code",
   "execution_count": null,
   "metadata": {
    "pycharm": {
     "name": "#%%\n"
    }
   },
   "outputs": [],
   "source": [
    "text_info[4787]['text']"
   ]
  },
  {
   "cell_type": "code",
   "execution_count": null,
   "metadata": {
    "pycharm": {
     "name": "#%%\n"
    }
   },
   "outputs": [],
   "source": [
    "text_info[4922]['text']"
   ]
  },
  {
   "cell_type": "code",
   "execution_count": null,
   "metadata": {
    "pycharm": {
     "name": "#%%\n"
    }
   },
   "outputs": [],
   "source": []
  }
 ],
 "metadata": {
  "kernelspec": {
   "display_name": "Python 3",
   "language": "python",
   "name": "python3"
  },
  "language_info": {
   "codemirror_mode": {
    "name": "ipython",
    "version": 2
   },
   "file_extension": ".py",
   "mimetype": "text/x-python",
   "name": "python",
   "nbconvert_exporter": "python",
   "pygments_lexer": "ipython2",
   "version": "2.7.6"
  }
 },
 "nbformat": 4,
 "nbformat_minor": 0
}